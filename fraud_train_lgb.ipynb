{
 "cells": [
  {
   "cell_type": "code",
   "execution_count": 1,
   "metadata": {
    "collapsed": true
   },
   "outputs": [],
   "source": [
    "%matplotlib inline\n",
    "import pandas as pd\n",
    "import lightgbm as lgb\n",
    "import numpy as np\n",
    "import os\n",
    "from __future__ import division\n",
    "from sklearn.model_selection import train_test_split\n",
    "from sklearn.metrics import roc_auc_score,roc_curve\n",
    "pd.set_option('display.max_rows', 1000)\n",
    "pd.set_option('display.max_columns', 1000)"
   ]
  },
  {
   "cell_type": "code",
   "execution_count": 10,
   "metadata": {
    "collapsed": true
   },
   "outputs": [],
   "source": [
    "df_train=pd.read_csv('data/atec_anti_fraud_train.csv', parse_dates=['date'])"
   ]
  },
  {
   "cell_type": "code",
   "execution_count": 17,
   "metadata": {},
   "outputs": [
    {
     "data": {
      "text/plain": [
       "47"
      ]
     },
     "execution_count": 17,
     "metadata": {},
     "output_type": "execute_result"
    }
   ],
   "source": [
    "(df_train.date[0] - df_train.date[1]).days"
   ]
  },
  {
   "cell_type": "code",
   "execution_count": 3,
   "metadata": {
    "collapsed": true
   },
   "outputs": [],
   "source": [
    "df_train_clean=df_train.loc[df_train['label']!=-1]\n",
    "del df_train"
   ]
  },
  {
   "cell_type": "code",
   "execution_count": 4,
   "metadata": {
    "collapsed": true
   },
   "outputs": [],
   "source": [
    "y=df_train_clean['label']\n",
    "X=df_train_clean.drop(['id','label','date'],axis=1)\n",
    "x_train,x_test,y_train,y_test=train_test_split(X,y,test_size=0.1,random_state=69)"
   ]
  },
  {
   "cell_type": "code",
   "execution_count": 8,
   "metadata": {},
   "outputs": [
    {
     "data": {
      "text/plain": [
       "Index(['id', 'label', 'date', 'f1', 'f2', 'f3', 'f4', 'f5', 'f6', 'f7',\n",
       "       ...\n",
       "       'f288', 'f289', 'f290', 'f291', 'f292', 'f293', 'f294', 'f295', 'f296',\n",
       "       'f297'],\n",
       "      dtype='object', length=300)"
      ]
     },
     "execution_count": 8,
     "metadata": {},
     "output_type": "execute_result"
    }
   ],
   "source": [
    "df_train_clean.columns"
   ]
  },
  {
   "cell_type": "code",
   "execution_count": 12,
   "metadata": {
    "collapsed": true
   },
   "outputs": [],
   "source": [
    "num_values=1000\n",
    "category_feature=[]\n",
    "for i in range(X.shape[1]):\n",
    "    num = X['f'+str(i+1)].unique().shape[0]\n",
    "    if num <=num_values:\n",
    "        category_feature.append(i)"
   ]
  },
  {
   "cell_type": "code",
   "execution_count": 14,
   "metadata": {},
   "outputs": [],
   "source": [
    "def atec_metric(preds, train_data):\n",
    "    labels = train_data.get_label()\n",
    "    fpr,tpr,threshhold=roc_curve(labels, preds)\n",
    "    return 'atec_metric', 0.4*tpr[fpr<=0.001][-1] + 0.3*tpr[fpr<=0.005][-1] + 0.3*tpr[fpr<=0.01][-1], True"
   ]
  },
  {
   "cell_type": "code",
   "execution_count": 15,
   "metadata": {},
   "outputs": [],
   "source": [
    "lgb_train=lgb.Dataset(x_train,y_train,free_raw_data=False)\n",
    "lgb_valid=lgb.Dataset(x_test,y_test,reference=lgb_train,free_raw_data=False)\n",
    "params = {\n",
    "    'boosting_type': 'gbdt',\n",
    "    'objective': 'binary',\n",
    "    'metric': 'auc',\n",
    "    'train_metric': True,\n",
    "    'num_leaves': 31,\n",
    "    'early_stopping_round': 10,\n",
    "    'learning_rate': 0.1,\n",
    "    #'feature_fraction': 0.9,\n",
    "    #'bagging_fraction': 0.8,\n",
    "    #'bagging_freq': 5,\n",
    "    'device': 'cpu',\n",
    "    'verbose': 0\n",
    "}\n",
    "feature_name=['feasture_'+str(col+1) for col in range(x_train.shape[1])]"
   ]
  },
  {
   "cell_type": "code",
   "execution_count": 16,
   "metadata": {},
   "outputs": [
    {
     "name": "stderr",
     "output_type": "stream",
     "text": [
      "/home/littleyy/anaconda3/lib/python3.6/site-packages/lightgbm/engine.py:104: UserWarning: Found `early_stopping_round` in params. Will use it instead of argument\n",
      "  warnings.warn(\"Found `{}` in params. Will use it instead of argument\".format(alias))\n",
      "/home/littleyy/anaconda3/lib/python3.6/site-packages/lightgbm/basic.py:1038: UserWarning: categorical_feature in Dataset is overridden. New categorical_feature is [0, 1, 2, 3, 4, 5, 6, 7, 8, 9, 10, 11, 12, 13, 14, 15, 16, 17, 18, 19, 20, 21, 22, 23, 24, 25, 26, 27, 28, 29, 30, 31, 32, 33, 34, 35, 36, 37, 38, 39, 40, 41, 42, 43, 44, 45, 46, 47, 48, 49, 50, 51, 52, 53, 54, 55, 56, 57, 58, 59, 60, 61, 62, 63, 64, 65, 66, 67, 68, 69, 70, 71, 72, 73, 75, 76, 77, 78, 79, 80, 86, 87, 88, 89, 90, 91, 92, 93, 94, 95, 96, 97, 98, 99, 100, 101, 102, 103, 104, 105, 106, 107, 108, 109, 110, 111, 112, 113, 114, 115, 116, 117, 118, 119, 120, 121, 122, 123, 124, 125, 126, 127, 128, 129, 130, 131, 132, 133, 134, 135, 136, 137, 138, 139, 140, 141, 142, 143, 144, 145, 146, 147, 148, 149, 150, 151, 152, 153, 154, 155, 156, 157, 158, 159, 160, 161, 162, 163, 164, 165, 166, 167, 168, 169, 170, 171, 172, 173, 174, 175, 176, 177, 178, 179, 180, 181, 182, 183, 184, 185, 186, 187, 188, 189, 190, 191, 192, 193, 194, 195, 196, 197, 198, 199, 200, 201, 202, 203, 204, 205, 206, 207, 208, 209, 210, 211, 212, 213, 214, 215, 216, 217, 218, 219, 220, 221, 222, 223, 224, 225, 226, 227, 228, 229, 230, 231, 232, 233, 234, 235, 236, 237, 238, 239, 240, 241, 242, 243, 244, 245, 246, 247, 248, 249, 250, 251, 252, 253, 254, 255, 256, 257, 258, 259, 260, 261, 262, 263, 264, 265, 266, 267, 268, 269, 270, 271, 272, 273, 274, 275, 276, 277, 278, 279, 280, 281, 282, 283, 284, 285, 286, 287, 288, 289, 290, 291, 292, 293, 294, 295, 296]\n",
      "  warnings.warn('categorical_feature in Dataset is overridden. New categorical_feature is {}'.format(sorted(list(categorical_feature))))\n",
      "/home/littleyy/anaconda3/lib/python3.6/site-packages/lightgbm/basic.py:681: UserWarning: categorical_feature in param dict is overridden.\n",
      "  warnings.warn('categorical_feature in param dict is overridden.')\n"
     ]
    },
    {
     "name": "stdout",
     "output_type": "stream",
     "text": [
      "[1]\ttrain_set's auc: 0.926018\ttrain_set's atec_metric: 0.394958\tvalid_set's auc: 0.918703\tvalid_set's atec_metric: 0.37385\n",
      "Training until validation scores don't improve for 10 rounds.\n",
      "[2]\ttrain_set's auc: 0.94948\ttrain_set's atec_metric: 0.424817\tvalid_set's auc: 0.948873\tvalid_set's atec_metric: 0.406985\n",
      "[3]\ttrain_set's auc: 0.951046\ttrain_set's atec_metric: 0.438144\tvalid_set's auc: 0.950603\tvalid_set's atec_metric: 0.410733\n",
      "[4]\ttrain_set's auc: 0.95269\ttrain_set's atec_metric: 0.44641\tvalid_set's auc: 0.952268\tvalid_set's atec_metric: 0.428535\n",
      "[5]\ttrain_set's auc: 0.956853\ttrain_set's atec_metric: 0.450073\tvalid_set's auc: 0.957902\tvalid_set's atec_metric: 0.423424\n",
      "[6]\ttrain_set's auc: 0.956918\ttrain_set's atec_metric: 0.46456\tvalid_set's auc: 0.958156\tvalid_set's atec_metric: 0.439779\n",
      "[7]\ttrain_set's auc: 0.959028\ttrain_set's atec_metric: 0.470853\tvalid_set's auc: 0.960312\tvalid_set's atec_metric: 0.442675\n",
      "[8]\ttrain_set's auc: 0.960319\ttrain_set's atec_metric: 0.481558\tvalid_set's auc: 0.961489\tvalid_set's atec_metric: 0.466695\n",
      "[9]\ttrain_set's auc: 0.961164\ttrain_set's atec_metric: 0.486783\tvalid_set's auc: 0.962847\tvalid_set's atec_metric: 0.473083\n",
      "[10]\ttrain_set's auc: 0.961378\ttrain_set's atec_metric: 0.494593\tvalid_set's auc: 0.963151\tvalid_set's atec_metric: 0.478535\n",
      "[11]\ttrain_set's auc: 0.961441\ttrain_set's atec_metric: 0.500164\tvalid_set's auc: 0.963104\tvalid_set's atec_metric: 0.471039\n",
      "[12]\ttrain_set's auc: 0.961876\ttrain_set's atec_metric: 0.5077\tvalid_set's auc: 0.963744\tvalid_set's atec_metric: 0.479302\n",
      "[13]\ttrain_set's auc: 0.962776\ttrain_set's atec_metric: 0.510988\tvalid_set's auc: 0.964595\tvalid_set's atec_metric: 0.490716\n",
      "[14]\ttrain_set's auc: 0.96328\ttrain_set's atec_metric: 0.518679\tvalid_set's auc: 0.965253\tvalid_set's atec_metric: 0.490545\n",
      "[15]\ttrain_set's auc: 0.964204\ttrain_set's atec_metric: 0.523913\tvalid_set's auc: 0.965427\tvalid_set's atec_metric: 0.489097\n",
      "[16]\ttrain_set's auc: 0.964523\ttrain_set's atec_metric: 0.529028\tvalid_set's auc: 0.965655\tvalid_set's atec_metric: 0.500681\n",
      "[17]\ttrain_set's auc: 0.964671\ttrain_set's atec_metric: 0.531933\tvalid_set's auc: 0.965759\tvalid_set's atec_metric: 0.502215\n",
      "[18]\ttrain_set's auc: 0.965608\ttrain_set's atec_metric: 0.537559\tvalid_set's auc: 0.966634\tvalid_set's atec_metric: 0.506474\n",
      "[19]\ttrain_set's auc: 0.966023\ttrain_set's atec_metric: 0.541743\tvalid_set's auc: 0.96693\tvalid_set's atec_metric: 0.510733\n",
      "[20]\ttrain_set's auc: 0.966274\ttrain_set's atec_metric: 0.54378\tvalid_set's auc: 0.967163\tvalid_set's atec_metric: 0.515673\n",
      "[21]\ttrain_set's auc: 0.966542\ttrain_set's atec_metric: 0.547808\tvalid_set's auc: 0.967334\tvalid_set's atec_metric: 0.517547\n",
      "[22]\ttrain_set's auc: 0.969602\ttrain_set's atec_metric: 0.551014\tvalid_set's auc: 0.969945\tvalid_set's atec_metric: 0.518313\n",
      "[23]\ttrain_set's auc: 0.970379\ttrain_set's atec_metric: 0.554256\tvalid_set's auc: 0.97021\tvalid_set's atec_metric: 0.519591\n",
      "[24]\ttrain_set's auc: 0.971059\ttrain_set's atec_metric: 0.556613\tvalid_set's auc: 0.970733\tvalid_set's atec_metric: 0.525298\n",
      "[25]\ttrain_set's auc: 0.971345\ttrain_set's atec_metric: 0.557947\tvalid_set's auc: 0.970937\tvalid_set's atec_metric: 0.530153\n",
      "[26]\ttrain_set's auc: 0.971843\ttrain_set's atec_metric: 0.559837\tvalid_set's auc: 0.970997\tvalid_set's atec_metric: 0.529557\n",
      "[27]\ttrain_set's auc: 0.972656\ttrain_set's atec_metric: 0.563098\tvalid_set's auc: 0.971311\tvalid_set's atec_metric: 0.531261\n",
      "[28]\ttrain_set's auc: 0.973204\ttrain_set's atec_metric: 0.566432\tvalid_set's auc: 0.971804\tvalid_set's atec_metric: 0.532283\n",
      "[29]\ttrain_set's auc: 0.974793\ttrain_set's atec_metric: 0.57015\tvalid_set's auc: 0.973668\tvalid_set's atec_metric: 0.535349\n",
      "[30]\ttrain_set's auc: 0.975922\ttrain_set's atec_metric: 0.573922\tvalid_set's auc: 0.974465\tvalid_set's atec_metric: 0.537734\n",
      "[31]\ttrain_set's auc: 0.976323\ttrain_set's atec_metric: 0.576123\tvalid_set's auc: 0.97478\tvalid_set's atec_metric: 0.537308\n",
      "[32]\ttrain_set's auc: 0.978406\ttrain_set's atec_metric: 0.578489\tvalid_set's auc: 0.977244\tvalid_set's atec_metric: 0.535094\n",
      "[33]\ttrain_set's auc: 0.97926\ttrain_set's atec_metric: 0.580627\tvalid_set's auc: 0.97826\tvalid_set's atec_metric: 0.536201\n",
      "[34]\ttrain_set's auc: 0.980098\ttrain_set's atec_metric: 0.582618\tvalid_set's auc: 0.978838\tvalid_set's atec_metric: 0.539779\n",
      "[35]\ttrain_set's auc: 0.980441\ttrain_set's atec_metric: 0.587413\tvalid_set's auc: 0.97913\tvalid_set's atec_metric: 0.539693\n",
      "[36]\ttrain_set's auc: 0.980727\ttrain_set's atec_metric: 0.591231\tvalid_set's auc: 0.979513\tvalid_set's atec_metric: 0.544634\n",
      "[37]\ttrain_set's auc: 0.980997\ttrain_set's atec_metric: 0.593497\tvalid_set's auc: 0.979778\tvalid_set's atec_metric: 0.543101\n",
      "[38]\ttrain_set's auc: 0.981324\ttrain_set's atec_metric: 0.596465\tvalid_set's auc: 0.979817\tvalid_set's atec_metric: 0.5477\n",
      "[39]\ttrain_set's auc: 0.981526\ttrain_set's atec_metric: 0.599315\tvalid_set's auc: 0.979862\tvalid_set's atec_metric: 0.546508\n",
      "[40]\ttrain_set's auc: 0.981938\ttrain_set's atec_metric: 0.603361\tvalid_set's auc: 0.980429\tvalid_set's atec_metric: 0.547445\n",
      "[41]\ttrain_set's auc: 0.982492\ttrain_set's atec_metric: 0.607481\tvalid_set's auc: 0.980704\tvalid_set's atec_metric: 0.555196\n",
      "[42]\ttrain_set's auc: 0.982837\ttrain_set's atec_metric: 0.610605\tvalid_set's auc: 0.980885\tvalid_set's atec_metric: 0.555877\n",
      "[43]\ttrain_set's auc: 0.983145\ttrain_set's atec_metric: 0.614149\tvalid_set's auc: 0.981033\tvalid_set's atec_metric: 0.555196\n",
      "[44]\ttrain_set's auc: 0.983392\ttrain_set's atec_metric: 0.616496\tvalid_set's auc: 0.981225\tvalid_set's atec_metric: 0.556985\n",
      "[45]\ttrain_set's auc: 0.983793\ttrain_set's atec_metric: 0.619921\tvalid_set's auc: 0.981337\tvalid_set's atec_metric: 0.556474\n",
      "[46]\ttrain_set's auc: 0.984266\ttrain_set's atec_metric: 0.622716\tvalid_set's auc: 0.981776\tvalid_set's atec_metric: 0.561499\n",
      "[47]\ttrain_set's auc: 0.985016\ttrain_set's atec_metric: 0.626608\tvalid_set's auc: 0.982136\tvalid_set's atec_metric: 0.562351\n",
      "[48]\ttrain_set's auc: 0.985224\ttrain_set's atec_metric: 0.63049\tvalid_set's auc: 0.982348\tvalid_set's atec_metric: 0.562777\n",
      "[49]\ttrain_set's auc: 0.985399\ttrain_set's atec_metric: 0.632983\tvalid_set's auc: 0.98243\tvalid_set's atec_metric: 0.564055\n",
      "[50]\ttrain_set's auc: 0.985783\ttrain_set's atec_metric: 0.635943\tvalid_set's auc: 0.982854\tvalid_set's atec_metric: 0.567717\n",
      "[51]\ttrain_set's auc: 0.985993\ttrain_set's atec_metric: 0.638217\tvalid_set's auc: 0.98283\tvalid_set's atec_metric: 0.567973\n",
      "[52]\ttrain_set's auc: 0.986287\ttrain_set's atec_metric: 0.641176\tvalid_set's auc: 0.982992\tvalid_set's atec_metric: 0.567376\n",
      "[53]\ttrain_set's auc: 0.98646\ttrain_set's atec_metric: 0.64494\tvalid_set's auc: 0.98308\tvalid_set's atec_metric: 0.572743\n",
      "[54]\ttrain_set's auc: 0.987152\ttrain_set's atec_metric: 0.648009\tvalid_set's auc: 0.983525\tvalid_set's atec_metric: 0.574106\n",
      "[55]\ttrain_set's auc: 0.987665\ttrain_set's atec_metric: 0.65179\tvalid_set's auc: 0.983641\tvalid_set's atec_metric: 0.572828\n",
      "[56]\ttrain_set's auc: 0.988037\ttrain_set's atec_metric: 0.654814\tvalid_set's auc: 0.98404\tvalid_set's atec_metric: 0.577598\n",
      "[57]\ttrain_set's auc: 0.988325\ttrain_set's atec_metric: 0.658467\tvalid_set's auc: 0.984148\tvalid_set's atec_metric: 0.57862\n",
      "[58]\ttrain_set's auc: 0.988558\ttrain_set's atec_metric: 0.660495\tvalid_set's auc: 0.984157\tvalid_set's atec_metric: 0.579131\n",
      "[59]\ttrain_set's auc: 0.988906\ttrain_set's atec_metric: 0.662888\tvalid_set's auc: 0.98437\tvalid_set's atec_metric: 0.581346\n",
      "[60]\ttrain_set's auc: 0.989489\ttrain_set's atec_metric: 0.666487\tvalid_set's auc: 0.984557\tvalid_set's atec_metric: 0.583646\n",
      "[61]\ttrain_set's auc: 0.989798\ttrain_set's atec_metric: 0.669373\tvalid_set's auc: 0.984713\tvalid_set's atec_metric: 0.58322\n",
      "[62]\ttrain_set's auc: 0.990081\ttrain_set's atec_metric: 0.671164\tvalid_set's auc: 0.984859\tvalid_set's atec_metric: 0.583475\n",
      "[63]\ttrain_set's auc: 0.990386\ttrain_set's atec_metric: 0.672753\tvalid_set's auc: 0.985054\tvalid_set's atec_metric: 0.581175\n",
      "[64]\ttrain_set's auc: 0.99059\ttrain_set's atec_metric: 0.676005\tvalid_set's auc: 0.985094\tvalid_set's atec_metric: 0.58322\n",
      "[65]\ttrain_set's auc: 0.9908\ttrain_set's atec_metric: 0.679412\tvalid_set's auc: 0.985102\tvalid_set's atec_metric: 0.584242\n",
      "[66]\ttrain_set's auc: 0.991062\ttrain_set's atec_metric: 0.682207\tvalid_set's auc: 0.985077\tvalid_set's atec_metric: 0.58356\n",
      "[67]\ttrain_set's auc: 0.991288\ttrain_set's atec_metric: 0.685477\tvalid_set's auc: 0.985133\tvalid_set's atec_metric: 0.585264\n",
      "[68]\ttrain_set's auc: 0.991511\ttrain_set's atec_metric: 0.687943\tvalid_set's auc: 0.985133\tvalid_set's atec_metric: 0.584753\n",
      "[69]\ttrain_set's auc: 0.99166\ttrain_set's atec_metric: 0.690555\tvalid_set's auc: 0.985261\tvalid_set's atec_metric: 0.584668\n",
      "[70]\ttrain_set's auc: 0.992032\ttrain_set's atec_metric: 0.69262\tvalid_set's auc: 0.985591\tvalid_set's atec_metric: 0.586286\n",
      "[71]\ttrain_set's auc: 0.992208\ttrain_set's atec_metric: 0.694711\tvalid_set's auc: 0.985539\tvalid_set's atec_metric: 0.587308\n",
      "[72]\ttrain_set's auc: 0.992331\ttrain_set's atec_metric: 0.697863\tvalid_set's auc: 0.985619\tvalid_set's atec_metric: 0.587819\n",
      "[73]\ttrain_set's auc: 0.992508\ttrain_set's atec_metric: 0.700932\tvalid_set's auc: 0.985646\tvalid_set's atec_metric: 0.58816\n",
      "[74]\ttrain_set's auc: 0.992653\ttrain_set's atec_metric: 0.7038\tvalid_set's auc: 0.985645\tvalid_set's atec_metric: 0.589864\n",
      "[75]\ttrain_set's auc: 0.992802\ttrain_set's atec_metric: 0.70665\tvalid_set's auc: 0.985608\tvalid_set's atec_metric: 0.589097\n",
      "[76]\ttrain_set's auc: 0.992917\ttrain_set's atec_metric: 0.709563\tvalid_set's auc: 0.985583\tvalid_set's atec_metric: 0.589012\n",
      "[77]\ttrain_set's auc: 0.993055\ttrain_set's atec_metric: 0.713528\tvalid_set's auc: 0.985717\tvalid_set's atec_metric: 0.591227\n",
      "[78]\ttrain_set's auc: 0.993185\ttrain_set's atec_metric: 0.717273\tvalid_set's auc: 0.985781\tvalid_set's atec_metric: 0.592164\n",
      "[79]\ttrain_set's auc: 0.993305\ttrain_set's atec_metric: 0.720141\tvalid_set's auc: 0.985932\tvalid_set's atec_metric: 0.591567\n",
      "[80]\ttrain_set's auc: 0.993422\ttrain_set's atec_metric: 0.722753\tvalid_set's auc: 0.98589\tvalid_set's atec_metric: 0.594293\n",
      "[81]\ttrain_set's auc: 0.99352\ttrain_set's atec_metric: 0.725475\tvalid_set's auc: 0.98597\tvalid_set's atec_metric: 0.594719\n",
      "[82]\ttrain_set's auc: 0.993603\ttrain_set's atec_metric: 0.727868\tvalid_set's auc: 0.985841\tvalid_set's atec_metric: 0.593356\n",
      "[83]\ttrain_set's auc: 0.993684\ttrain_set's atec_metric: 0.73028\tvalid_set's auc: 0.98594\tvalid_set's atec_metric: 0.592078\n",
      "[84]\ttrain_set's auc: 0.993781\ttrain_set's atec_metric: 0.732928\tvalid_set's auc: 0.986028\tvalid_set's atec_metric: 0.592589\n",
      "[85]\ttrain_set's auc: 0.993891\ttrain_set's atec_metric: 0.735294\tvalid_set's auc: 0.986045\tvalid_set's atec_metric: 0.592675\n",
      "[86]\ttrain_set's auc: 0.994006\ttrain_set's atec_metric: 0.738847\tvalid_set's auc: 0.985993\tvalid_set's atec_metric: 0.593526\n",
      "[87]\ttrain_set's auc: 0.994095\ttrain_set's atec_metric: 0.739953\tvalid_set's auc: 0.98604\tvalid_set's atec_metric: 0.594549\n",
      "[88]\ttrain_set's auc: 0.994174\ttrain_set's atec_metric: 0.742474\tvalid_set's auc: 0.986058\tvalid_set's atec_metric: 0.593867\n",
      "[89]\ttrain_set's auc: 0.994262\ttrain_set's atec_metric: 0.745205\tvalid_set's auc: 0.986089\tvalid_set's atec_metric: 0.595741\n",
      "[90]\ttrain_set's auc: 0.994342\ttrain_set's atec_metric: 0.747643\tvalid_set's auc: 0.986069\tvalid_set's atec_metric: 0.598296\n",
      "[91]\ttrain_set's auc: 0.994415\ttrain_set's atec_metric: 0.750256\tvalid_set's auc: 0.986077\tvalid_set's atec_metric: 0.594549\n",
      "[92]\ttrain_set's auc: 0.994486\ttrain_set's atec_metric: 0.753197\tvalid_set's auc: 0.986\tvalid_set's atec_metric: 0.592164\n",
      "[93]\ttrain_set's auc: 0.994575\ttrain_set's atec_metric: 0.756229\tvalid_set's auc: 0.986043\tvalid_set's atec_metric: 0.593697\n",
      "[94]\ttrain_set's auc: 0.994646\ttrain_set's atec_metric: 0.757408\tvalid_set's auc: 0.985991\tvalid_set's atec_metric: 0.594037\n",
      "[95]\ttrain_set's auc: 0.9948\ttrain_set's atec_metric: 0.75781\tvalid_set's auc: 0.985895\tvalid_set's atec_metric: 0.591652\n",
      "[96]\ttrain_set's auc: 0.994866\ttrain_set's atec_metric: 0.759929\tvalid_set's auc: 0.985961\tvalid_set's atec_metric: 0.591056\n",
      "[97]\ttrain_set's auc: 0.994932\ttrain_set's atec_metric: 0.762231\tvalid_set's auc: 0.985883\tvalid_set's atec_metric: 0.592504\n",
      "[98]\ttrain_set's auc: 0.995001\ttrain_set's atec_metric: 0.763929\tvalid_set's auc: 0.985906\tvalid_set's atec_metric: 0.592164\n",
      "[99]\ttrain_set's auc: 0.995054\ttrain_set's atec_metric: 0.765628\tvalid_set's auc: 0.985927\tvalid_set's atec_metric: 0.591908\n",
      "Early stopping, best iteration is:\n",
      "[89]\ttrain_set's auc: 0.994262\ttrain_set's atec_metric: 0.745205\tvalid_set's auc: 0.986089\tvalid_set's atec_metric: 0.595741\n"
     ]
    }
   ],
   "source": [
    "gbm=lgb.train(params, lgb_train, num_boost_round=1000, valid_sets=[lgb_train, lgb_valid], valid_names=['train_set', 'valid_set'], feval=atec_metric, feature_name=feature_name, categorical_feature=category_feature)"
   ]
  }
 ],
 "metadata": {
  "kernelspec": {
   "display_name": "Python 3",
   "language": "python",
   "name": "python3"
  },
  "language_info": {
   "codemirror_mode": {
    "name": "ipython",
    "version": 3
   },
   "file_extension": ".py",
   "mimetype": "text/x-python",
   "name": "python",
   "nbconvert_exporter": "python",
   "pygments_lexer": "ipython3",
   "version": "3.6.4"
  }
 },
 "nbformat": 4,
 "nbformat_minor": 2
}
